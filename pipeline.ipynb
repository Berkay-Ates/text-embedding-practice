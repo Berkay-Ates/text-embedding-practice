{
 "cells": [
  {
   "cell_type": "code",
   "execution_count": 1,
   "metadata": {},
   "outputs": [],
   "source": [
    "import spacy"
   ]
  },
  {
   "cell_type": "code",
   "execution_count": 2,
   "metadata": {},
   "outputs": [
    {
     "name": "stdout",
     "output_type": "stream",
     "text": [
      "Captain\n",
      "America\n",
      "ate\n",
      "100\n",
      "$\n",
      "of\n",
      "samosa\n",
      ".\n",
      "Then\n",
      "he\n",
      "said\n",
      "i\n",
      "can\n",
      "do\n",
      "this\n",
      "all\n",
      "thay\n"
     ]
    }
   ],
   "source": [
    "nlp = spacy.blank('en')\n",
    "\n",
    "doc = nlp(\"Captain America ate 100$ of samosa. Then he said i can do this all thay\")\n",
    "\n",
    "for token in doc:\n",
    "    print(token)"
   ]
  },
  {
   "cell_type": "code",
   "execution_count": 3,
   "metadata": {},
   "outputs": [
    {
     "data": {
      "text/plain": [
       "[]"
      ]
     },
     "execution_count": 3,
     "metadata": {},
     "output_type": "execute_result"
    }
   ],
   "source": [
    "nlp.pipe_names"
   ]
  },
  {
   "cell_type": "code",
   "execution_count": 4,
   "metadata": {},
   "outputs": [
    {
     "name": "stdout",
     "output_type": "stream",
     "text": [
      "Collecting en-core-web-sm==3.7.1\n",
      "  Downloading https://github.com/explosion/spacy-models/releases/download/en_core_web_sm-3.7.1/en_core_web_sm-3.7.1-py3-none-any.whl (12.8 MB)\n",
      "     ---------------------------------------- 0.0/12.8 MB ? eta -:--:--\n",
      "     --------------------------------------- 0.0/12.8 MB 330.3 kB/s eta 0:00:39\n",
      "     --------------------------------------- 0.0/12.8 MB 495.5 kB/s eta 0:00:26\n",
      "     ---------------------------------------- 0.1/12.8 MB 1.0 MB/s eta 0:00:13\n",
      "      --------------------------------------- 0.2/12.8 MB 1.1 MB/s eta 0:00:12\n",
      "      --------------------------------------- 0.3/12.8 MB 1.2 MB/s eta 0:00:11\n",
      "      --------------------------------------- 0.3/12.8 MB 1.3 MB/s eta 0:00:10\n",
      "     - -------------------------------------- 0.4/12.8 MB 1.2 MB/s eta 0:00:11\n",
      "     - -------------------------------------- 0.4/12.8 MB 1.2 MB/s eta 0:00:11\n",
      "     - -------------------------------------- 0.4/12.8 MB 1.1 MB/s eta 0:00:12\n",
      "     - ------------------------------------- 0.4/12.8 MB 997.2 kB/s eta 0:00:13\n",
      "     - ------------------------------------- 0.5/12.8 MB 940.9 kB/s eta 0:00:14\n",
      "     - ------------------------------------- 0.5/12.8 MB 887.1 kB/s eta 0:00:14\n",
      "     - ------------------------------------- 0.5/12.8 MB 903.5 kB/s eta 0:00:14\n",
      "     - ------------------------------------- 0.6/12.8 MB 891.2 kB/s eta 0:00:14\n",
      "     - ------------------------------------- 0.6/12.8 MB 869.9 kB/s eta 0:00:15\n",
      "     - ------------------------------------- 0.6/12.8 MB 870.0 kB/s eta 0:00:14\n",
      "     -- ------------------------------------ 0.7/12.8 MB 856.7 kB/s eta 0:00:15\n",
      "     -- ------------------------------------ 0.7/12.8 MB 844.9 kB/s eta 0:00:15\n",
      "     -- ------------------------------------ 0.7/12.8 MB 850.3 kB/s eta 0:00:15\n",
      "     -- ------------------------------------ 0.8/12.8 MB 847.7 kB/s eta 0:00:15\n",
      "     -- ------------------------------------ 0.8/12.8 MB 847.7 kB/s eta 0:00:15\n",
      "     -- ------------------------------------ 0.8/12.8 MB 819.2 kB/s eta 0:00:15\n",
      "     -- ------------------------------------ 0.8/12.8 MB 804.5 kB/s eta 0:00:15\n",
      "     -- ------------------------------------ 0.9/12.8 MB 800.3 kB/s eta 0:00:15\n",
      "     -- ------------------------------------ 0.9/12.8 MB 782.8 kB/s eta 0:00:16\n",
      "     -- ------------------------------------ 0.9/12.8 MB 785.0 kB/s eta 0:00:16\n",
      "     -- ------------------------------------ 1.0/12.8 MB 780.0 kB/s eta 0:00:16\n",
      "     --- ----------------------------------- 1.0/12.8 MB 785.2 kB/s eta 0:00:16\n",
      "     --- ----------------------------------- 1.0/12.8 MB 788.3 kB/s eta 0:00:15\n",
      "     --- ----------------------------------- 1.1/12.8 MB 774.5 kB/s eta 0:00:16\n",
      "     --- ----------------------------------- 1.1/12.8 MB 764.7 kB/s eta 0:00:16\n",
      "     --- ----------------------------------- 1.1/12.8 MB 768.2 kB/s eta 0:00:16\n",
      "     --- ----------------------------------- 1.2/12.8 MB 757.0 kB/s eta 0:00:16\n",
      "     --- ----------------------------------- 1.2/12.8 MB 753.9 kB/s eta 0:00:16\n",
      "     --- ----------------------------------- 1.2/12.8 MB 758.5 kB/s eta 0:00:16\n",
      "     --- ----------------------------------- 1.3/12.8 MB 760.6 kB/s eta 0:00:16\n",
      "     --- ----------------------------------- 1.3/12.8 MB 757.6 kB/s eta 0:00:16\n",
      "     ---- ---------------------------------- 1.3/12.8 MB 761.8 kB/s eta 0:00:16\n",
      "     ---- ---------------------------------- 1.4/12.8 MB 771.6 kB/s eta 0:00:15\n",
      "     ---- ---------------------------------- 1.4/12.8 MB 767.4 kB/s eta 0:00:15\n",
      "     ---- ---------------------------------- 1.5/12.8 MB 770.0 kB/s eta 0:00:15\n",
      "     ---- ---------------------------------- 1.5/12.8 MB 762.9 kB/s eta 0:00:15\n",
      "     ---- ---------------------------------- 1.5/12.8 MB 752.6 kB/s eta 0:00:15\n",
      "     ---- ---------------------------------- 1.5/12.8 MB 756.3 kB/s eta 0:00:15\n",
      "     ---- ---------------------------------- 1.6/12.8 MB 763.8 kB/s eta 0:00:15\n",
      "     ----- --------------------------------- 1.7/12.8 MB 770.4 kB/s eta 0:00:15\n",
      "     ----- --------------------------------- 1.7/12.8 MB 777.2 kB/s eta 0:00:15\n",
      "     ----- --------------------------------- 1.8/12.8 MB 793.0 kB/s eta 0:00:14\n",
      "     ----- --------------------------------- 1.8/12.8 MB 790.1 kB/s eta 0:00:14\n",
      "     ----- --------------------------------- 1.8/12.8 MB 783.9 kB/s eta 0:00:15\n",
      "     ----- --------------------------------- 1.9/12.8 MB 780.4 kB/s eta 0:00:15\n",
      "     ----- --------------------------------- 1.9/12.8 MB 774.6 kB/s eta 0:00:15\n",
      "     ----- --------------------------------- 1.9/12.8 MB 768.1 kB/s eta 0:00:15\n",
      "     ----- --------------------------------- 1.9/12.8 MB 766.0 kB/s eta 0:00:15\n",
      "     ----- --------------------------------- 2.0/12.8 MB 759.4 kB/s eta 0:00:15\n",
      "     ------ -------------------------------- 2.0/12.8 MB 757.5 kB/s eta 0:00:15\n",
      "     ------ -------------------------------- 2.0/12.8 MB 763.4 kB/s eta 0:00:15\n",
      "     ------ -------------------------------- 2.1/12.8 MB 769.0 kB/s eta 0:00:14\n",
      "     ------ -------------------------------- 2.1/12.8 MB 774.5 kB/s eta 0:00:14\n",
      "     ------ -------------------------------- 2.2/12.8 MB 788.0 kB/s eta 0:00:14\n",
      "     ------ -------------------------------- 2.3/12.8 MB 796.0 kB/s eta 0:00:14\n",
      "     ------- ------------------------------- 2.3/12.8 MB 797.2 kB/s eta 0:00:14\n",
      "     ------- ------------------------------- 2.4/12.8 MB 806.3 kB/s eta 0:00:13\n",
      "     ------- ------------------------------- 2.4/12.8 MB 806.4 kB/s eta 0:00:13\n",
      "     ------- ------------------------------- 2.5/12.8 MB 814.2 kB/s eta 0:00:13\n",
      "     ------- ------------------------------- 2.6/12.8 MB 826.7 kB/s eta 0:00:13\n",
      "     -------- ------------------------------ 2.7/12.8 MB 840.4 kB/s eta 0:00:13\n",
      "     -------- ------------------------------ 2.7/12.8 MB 847.2 kB/s eta 0:00:12\n",
      "     -------- ------------------------------ 2.8/12.8 MB 853.1 kB/s eta 0:00:12\n",
      "     -------- ------------------------------ 2.9/12.8 MB 859.5 kB/s eta 0:00:12\n",
      "     -------- ------------------------------ 2.9/12.8 MB 873.0 kB/s eta 0:00:12\n",
      "     --------- ----------------------------- 3.0/12.8 MB 880.9 kB/s eta 0:00:12\n",
      "     --------- ----------------------------- 3.1/12.8 MB 886.7 kB/s eta 0:00:11\n",
      "     --------- ----------------------------- 3.1/12.8 MB 896.4 kB/s eta 0:00:11\n",
      "     --------- ----------------------------- 3.2/12.8 MB 901.0 kB/s eta 0:00:11\n",
      "     --------- ----------------------------- 3.3/12.8 MB 903.4 kB/s eta 0:00:11\n",
      "     ---------- ---------------------------- 3.3/12.8 MB 906.8 kB/s eta 0:00:11\n",
      "     ---------- ---------------------------- 3.3/12.8 MB 905.4 kB/s eta 0:00:11\n",
      "     ---------- ---------------------------- 3.4/12.8 MB 907.0 kB/s eta 0:00:11\n",
      "     ---------- ---------------------------- 3.4/12.8 MB 907.0 kB/s eta 0:00:11\n",
      "     ---------- ---------------------------- 3.4/12.8 MB 889.1 kB/s eta 0:00:11\n",
      "     ---------- ---------------------------- 3.4/12.8 MB 889.1 kB/s eta 0:00:11\n",
      "     ---------- ---------------------------- 3.4/12.8 MB 880.0 kB/s eta 0:00:11\n",
      "     ---------- ---------------------------- 3.4/12.8 MB 868.7 kB/s eta 0:00:11\n",
      "     ---------- ---------------------------- 3.5/12.8 MB 860.2 kB/s eta 0:00:11\n",
      "     ---------- ---------------------------- 3.5/12.8 MB 856.1 kB/s eta 0:00:11\n",
      "     ---------- ---------------------------- 3.5/12.8 MB 851.2 kB/s eta 0:00:11\n",
      "     ---------- ---------------------------- 3.5/12.8 MB 851.2 kB/s eta 0:00:11\n",
      "     ---------- ---------------------------- 3.5/12.8 MB 851.2 kB/s eta 0:00:11\n",
      "     ---------- ---------------------------- 3.5/12.8 MB 851.2 kB/s eta 0:00:11\n",
      "     ---------- ---------------------------- 3.5/12.8 MB 851.2 kB/s eta 0:00:11\n",
      "     ---------- ---------------------------- 3.5/12.8 MB 851.2 kB/s eta 0:00:11\n",
      "     ---------- ---------------------------- 3.5/12.8 MB 798.1 kB/s eta 0:00:12\n",
      "     ---------- ---------------------------- 3.5/12.8 MB 798.1 kB/s eta 0:00:12\n",
      "     ---------- ---------------------------- 3.5/12.8 MB 786.5 kB/s eta 0:00:12\n",
      "     ---------- ---------------------------- 3.5/12.8 MB 780.2 kB/s eta 0:00:12\n",
      "     ---------- ---------------------------- 3.5/12.8 MB 777.1 kB/s eta 0:00:12\n",
      "     ---------- ---------------------------- 3.6/12.8 MB 778.1 kB/s eta 0:00:12\n",
      "     ----------- --------------------------- 3.6/12.8 MB 774.2 kB/s eta 0:00:12\n",
      "     ----------- --------------------------- 3.6/12.8 MB 773.0 kB/s eta 0:00:12\n",
      "     ----------- --------------------------- 3.7/12.8 MB 771.8 kB/s eta 0:00:12\n",
      "     ----------- --------------------------- 3.7/12.8 MB 770.8 kB/s eta 0:00:12\n",
      "     ----------- --------------------------- 3.7/12.8 MB 771.8 kB/s eta 0:00:12\n",
      "     ----------- --------------------------- 3.8/12.8 MB 773.0 kB/s eta 0:00:12\n",
      "     ----------- --------------------------- 3.8/12.8 MB 773.7 kB/s eta 0:00:12\n",
      "     ----------- --------------------------- 3.9/12.8 MB 775.0 kB/s eta 0:00:12\n",
      "     ----------- --------------------------- 3.9/12.8 MB 778.0 kB/s eta 0:00:12\n",
      "     ------------ -------------------------- 3.9/12.8 MB 779.3 kB/s eta 0:00:12\n",
      "     ------------ -------------------------- 4.0/12.8 MB 775.7 kB/s eta 0:00:12\n",
      "     ------------ -------------------------- 4.0/12.8 MB 772.6 kB/s eta 0:00:12\n",
      "     ------------ -------------------------- 4.0/12.8 MB 772.3 kB/s eta 0:00:12\n",
      "     ------------ -------------------------- 4.0/12.8 MB 766.9 kB/s eta 0:00:12\n",
      "     ------------ -------------------------- 4.0/12.8 MB 759.9 kB/s eta 0:00:12\n",
      "     ------------ -------------------------- 4.0/12.8 MB 759.9 kB/s eta 0:00:12\n",
      "     ------------ -------------------------- 4.1/12.8 MB 752.0 kB/s eta 0:00:12\n",
      "     ------------ -------------------------- 4.1/12.8 MB 749.6 kB/s eta 0:00:12\n",
      "     ------------ -------------------------- 4.1/12.8 MB 749.1 kB/s eta 0:00:12\n",
      "     ------------ -------------------------- 4.1/12.8 MB 748.3 kB/s eta 0:00:12\n",
      "     ------------ -------------------------- 4.2/12.8 MB 747.5 kB/s eta 0:00:12\n",
      "     ------------ -------------------------- 4.2/12.8 MB 746.7 kB/s eta 0:00:12\n",
      "     ------------ -------------------------- 4.2/12.8 MB 745.7 kB/s eta 0:00:12\n",
      "     ------------- ------------------------- 4.3/12.8 MB 746.9 kB/s eta 0:00:12\n",
      "     ------------- ------------------------- 4.3/12.8 MB 749.6 kB/s eta 0:00:12\n",
      "     ------------- ------------------------- 4.4/12.8 MB 752.3 kB/s eta 0:00:12\n",
      "     ------------- ------------------------- 4.4/12.8 MB 755.0 kB/s eta 0:00:12\n",
      "     ------------- ------------------------- 4.5/12.8 MB 757.7 kB/s eta 0:00:11\n",
      "     ------------- ------------------------- 4.5/12.8 MB 758.9 kB/s eta 0:00:11\n",
      "     ------------- ------------------------- 4.5/12.8 MB 760.1 kB/s eta 0:00:11\n",
      "     ------------- ------------------------- 4.6/12.8 MB 757.3 kB/s eta 0:00:11\n",
      "     -------------- ------------------------ 4.6/12.8 MB 756.5 kB/s eta 0:00:11\n",
      "     -------------- ------------------------ 4.6/12.8 MB 757.3 kB/s eta 0:00:11\n",
      "     -------------- ------------------------ 4.7/12.8 MB 759.7 kB/s eta 0:00:11\n",
      "     -------------- ------------------------ 4.8/12.8 MB 763.8 kB/s eta 0:00:11\n",
      "     -------------- ------------------------ 4.8/12.8 MB 771.5 kB/s eta 0:00:11\n",
      "     -------------- ------------------------ 4.9/12.8 MB 775.5 kB/s eta 0:00:11\n",
      "     --------------- ----------------------- 5.0/12.8 MB 777.8 kB/s eta 0:00:11\n",
      "     --------------- ----------------------- 5.0/12.8 MB 782.0 kB/s eta 0:00:10\n",
      "     --------------- ----------------------- 5.1/12.8 MB 788.7 kB/s eta 0:00:10\n",
      "     --------------- ----------------------- 5.2/12.8 MB 798.7 kB/s eta 0:00:10\n",
      "     ---------------- ---------------------- 5.3/12.8 MB 808.8 kB/s eta 0:00:10\n",
      "     ---------------- ---------------------- 5.4/12.8 MB 817.0 kB/s eta 0:00:10\n",
      "     ---------------- ---------------------- 5.5/12.8 MB 828.1 kB/s eta 0:00:09\n",
      "     ----------------- --------------------- 5.7/12.8 MB 845.3 kB/s eta 0:00:09\n",
      "     ----------------- --------------------- 5.8/12.8 MB 854.6 kB/s eta 0:00:09\n",
      "     ----------------- --------------------- 5.9/12.8 MB 869.8 kB/s eta 0:00:08\n",
      "     ------------------ -------------------- 6.0/12.8 MB 875.8 kB/s eta 0:00:08\n",
      "     ------------------ -------------------- 6.1/12.8 MB 886.2 kB/s eta 0:00:08\n",
      "     ------------------ -------------------- 6.2/12.8 MB 899.6 kB/s eta 0:00:08\n",
      "     ------------------- ------------------- 6.4/12.8 MB 917.0 kB/s eta 0:00:07\n",
      "     ------------------- ------------------- 6.5/12.8 MB 931.3 kB/s eta 0:00:07\n",
      "     -------------------- ------------------ 6.7/12.8 MB 951.2 kB/s eta 0:00:07\n",
      "     -------------------- ------------------ 6.9/12.8 MB 968.0 kB/s eta 0:00:07\n",
      "     --------------------- ----------------- 7.1/12.8 MB 985.9 kB/s eta 0:00:06\n",
      "     ---------------------- ----------------- 7.3/12.8 MB 1.0 MB/s eta 0:00:06\n",
      "     ----------------------- ---------------- 7.5/12.8 MB 1.0 MB/s eta 0:00:06\n",
      "     ------------------------ --------------- 7.7/12.8 MB 1.1 MB/s eta 0:00:05\n",
      "     ------------------------ --------------- 7.9/12.8 MB 1.1 MB/s eta 0:00:05\n",
      "     ------------------------- -------------- 8.2/12.8 MB 1.1 MB/s eta 0:00:05\n",
      "     -------------------------- ------------- 8.3/12.8 MB 1.1 MB/s eta 0:00:04\n",
      "     -------------------------- ------------- 8.5/12.8 MB 1.1 MB/s eta 0:00:04\n",
      "     --------------------------- ------------ 8.7/12.8 MB 1.2 MB/s eta 0:00:04\n",
      "     --------------------------- ------------ 8.9/12.8 MB 1.2 MB/s eta 0:00:04\n",
      "     ---------------------------- ----------- 9.1/12.8 MB 1.2 MB/s eta 0:00:04\n",
      "     ---------------------------- ----------- 9.3/12.8 MB 1.2 MB/s eta 0:00:03\n",
      "     ----------------------------- ---------- 9.5/12.8 MB 1.2 MB/s eta 0:00:03\n",
      "     ------------------------------ --------- 9.7/12.8 MB 1.2 MB/s eta 0:00:03\n",
      "     ------------------------------- -------- 10.0/12.8 MB 1.3 MB/s eta 0:00:03\n",
      "     ------------------------------- -------- 10.2/12.8 MB 1.3 MB/s eta 0:00:03\n",
      "     -------------------------------- ------- 10.4/12.8 MB 1.3 MB/s eta 0:00:02\n",
      "     --------------------------------- ------ 10.6/12.8 MB 1.3 MB/s eta 0:00:02\n",
      "     ---------------------------------- ----- 10.9/12.8 MB 1.4 MB/s eta 0:00:02\n",
      "     ---------------------------------- ----- 11.2/12.8 MB 1.5 MB/s eta 0:00:02\n",
      "     ----------------------------------- ---- 11.4/12.8 MB 1.6 MB/s eta 0:00:01\n",
      "     ------------------------------------ --- 11.7/12.8 MB 1.6 MB/s eta 0:00:01\n",
      "     ------------------------------------- -- 11.9/12.8 MB 1.7 MB/s eta 0:00:01\n",
      "     -------------------------------------- - 12.2/12.8 MB 1.8 MB/s eta 0:00:01\n",
      "     ---------------------------------------  12.5/12.8 MB 1.9 MB/s eta 0:00:01\n",
      "     ---------------------------------------  12.8/12.8 MB 2.0 MB/s eta 0:00:01\n",
      "     ---------------------------------------- 12.8/12.8 MB 2.0 MB/s eta 0:00:00\n",
      "Requirement already satisfied: spacy<3.8.0,>=3.7.2 in c:\\users\\atesb\\miniconda3\\lib\\site-packages (from en-core-web-sm==3.7.1) (3.7.4)\n",
      "Requirement already satisfied: spacy-legacy<3.1.0,>=3.0.11 in c:\\users\\atesb\\miniconda3\\lib\\site-packages (from spacy<3.8.0,>=3.7.2->en-core-web-sm==3.7.1) (3.0.12)\n",
      "Requirement already satisfied: spacy-loggers<2.0.0,>=1.0.0 in c:\\users\\atesb\\miniconda3\\lib\\site-packages (from spacy<3.8.0,>=3.7.2->en-core-web-sm==3.7.1) (1.0.5)\n",
      "Requirement already satisfied: murmurhash<1.1.0,>=0.28.0 in c:\\users\\atesb\\miniconda3\\lib\\site-packages (from spacy<3.8.0,>=3.7.2->en-core-web-sm==3.7.1) (1.0.10)\n",
      "Requirement already satisfied: cymem<2.1.0,>=2.0.2 in c:\\users\\atesb\\miniconda3\\lib\\site-packages (from spacy<3.8.0,>=3.7.2->en-core-web-sm==3.7.1) (2.0.8)\n",
      "Requirement already satisfied: preshed<3.1.0,>=3.0.2 in c:\\users\\atesb\\miniconda3\\lib\\site-packages (from spacy<3.8.0,>=3.7.2->en-core-web-sm==3.7.1) (3.0.9)\n",
      "Requirement already satisfied: thinc<8.3.0,>=8.2.2 in c:\\users\\atesb\\miniconda3\\lib\\site-packages (from spacy<3.8.0,>=3.7.2->en-core-web-sm==3.7.1) (8.2.3)\n",
      "Requirement already satisfied: wasabi<1.2.0,>=0.9.1 in c:\\users\\atesb\\miniconda3\\lib\\site-packages (from spacy<3.8.0,>=3.7.2->en-core-web-sm==3.7.1) (1.1.2)\n",
      "Requirement already satisfied: srsly<3.0.0,>=2.4.3 in c:\\users\\atesb\\miniconda3\\lib\\site-packages (from spacy<3.8.0,>=3.7.2->en-core-web-sm==3.7.1) (2.4.8)\n",
      "Requirement already satisfied: catalogue<2.1.0,>=2.0.6 in c:\\users\\atesb\\miniconda3\\lib\\site-packages (from spacy<3.8.0,>=3.7.2->en-core-web-sm==3.7.1) (2.0.10)\n",
      "Requirement already satisfied: weasel<0.4.0,>=0.1.0 in c:\\users\\atesb\\miniconda3\\lib\\site-packages (from spacy<3.8.0,>=3.7.2->en-core-web-sm==3.7.1) (0.3.4)\n",
      "Requirement already satisfied: typer<0.10.0,>=0.3.0 in c:\\users\\atesb\\miniconda3\\lib\\site-packages (from spacy<3.8.0,>=3.7.2->en-core-web-sm==3.7.1) (0.9.0)\n",
      "Requirement already satisfied: smart-open<7.0.0,>=5.2.1 in c:\\users\\atesb\\miniconda3\\lib\\site-packages (from spacy<3.8.0,>=3.7.2->en-core-web-sm==3.7.1) (6.4.0)\n",
      "Requirement already satisfied: tqdm<5.0.0,>=4.38.0 in c:\\users\\atesb\\miniconda3\\lib\\site-packages (from spacy<3.8.0,>=3.7.2->en-core-web-sm==3.7.1) (4.65.0)\n",
      "Requirement already satisfied: requests<3.0.0,>=2.13.0 in c:\\users\\atesb\\miniconda3\\lib\\site-packages (from spacy<3.8.0,>=3.7.2->en-core-web-sm==3.7.1) (2.31.0)\n",
      "Requirement already satisfied: pydantic!=1.8,!=1.8.1,<3.0.0,>=1.7.4 in c:\\users\\atesb\\miniconda3\\lib\\site-packages (from spacy<3.8.0,>=3.7.2->en-core-web-sm==3.7.1) (2.6.1)\n",
      "Requirement already satisfied: jinja2 in c:\\users\\atesb\\miniconda3\\lib\\site-packages (from spacy<3.8.0,>=3.7.2->en-core-web-sm==3.7.1) (3.1.2)\n",
      "Requirement already satisfied: setuptools in c:\\users\\atesb\\miniconda3\\lib\\site-packages (from spacy<3.8.0,>=3.7.2->en-core-web-sm==3.7.1) (68.2.2)\n",
      "Requirement already satisfied: packaging>=20.0 in c:\\users\\atesb\\miniconda3\\lib\\site-packages (from spacy<3.8.0,>=3.7.2->en-core-web-sm==3.7.1) (23.1)\n",
      "Requirement already satisfied: langcodes<4.0.0,>=3.2.0 in c:\\users\\atesb\\miniconda3\\lib\\site-packages (from spacy<3.8.0,>=3.7.2->en-core-web-sm==3.7.1) (3.3.0)\n",
      "Requirement already satisfied: numpy>=1.19.0 in c:\\users\\atesb\\miniconda3\\lib\\site-packages (from spacy<3.8.0,>=3.7.2->en-core-web-sm==3.7.1) (1.26.3)\n",
      "Requirement already satisfied: annotated-types>=0.4.0 in c:\\users\\atesb\\miniconda3\\lib\\site-packages (from pydantic!=1.8,!=1.8.1,<3.0.0,>=1.7.4->spacy<3.8.0,>=3.7.2->en-core-web-sm==3.7.1) (0.6.0)\n",
      "Requirement already satisfied: pydantic-core==2.16.2 in c:\\users\\atesb\\miniconda3\\lib\\site-packages (from pydantic!=1.8,!=1.8.1,<3.0.0,>=1.7.4->spacy<3.8.0,>=3.7.2->en-core-web-sm==3.7.1) (2.16.2)\n",
      "Requirement already satisfied: typing-extensions>=4.6.1 in c:\\users\\atesb\\miniconda3\\lib\\site-packages (from pydantic!=1.8,!=1.8.1,<3.0.0,>=1.7.4->spacy<3.8.0,>=3.7.2->en-core-web-sm==3.7.1) (4.9.0)\n",
      "Requirement already satisfied: charset-normalizer<4,>=2 in c:\\users\\atesb\\miniconda3\\lib\\site-packages (from requests<3.0.0,>=2.13.0->spacy<3.8.0,>=3.7.2->en-core-web-sm==3.7.1) (2.0.4)\n",
      "Requirement already satisfied: idna<4,>=2.5 in c:\\users\\atesb\\miniconda3\\lib\\site-packages (from requests<3.0.0,>=2.13.0->spacy<3.8.0,>=3.7.2->en-core-web-sm==3.7.1) (3.4)\n",
      "Requirement already satisfied: urllib3<3,>=1.21.1 in c:\\users\\atesb\\miniconda3\\lib\\site-packages (from requests<3.0.0,>=2.13.0->spacy<3.8.0,>=3.7.2->en-core-web-sm==3.7.1) (1.26.18)\n",
      "Requirement already satisfied: certifi>=2017.4.17 in c:\\users\\atesb\\miniconda3\\lib\\site-packages (from requests<3.0.0,>=2.13.0->spacy<3.8.0,>=3.7.2->en-core-web-sm==3.7.1) (2023.11.17)\n",
      "Requirement already satisfied: blis<0.8.0,>=0.7.8 in c:\\users\\atesb\\miniconda3\\lib\\site-packages (from thinc<8.3.0,>=8.2.2->spacy<3.8.0,>=3.7.2->en-core-web-sm==3.7.1) (0.7.11)\n",
      "Requirement already satisfied: confection<1.0.0,>=0.0.1 in c:\\users\\atesb\\miniconda3\\lib\\site-packages (from thinc<8.3.0,>=8.2.2->spacy<3.8.0,>=3.7.2->en-core-web-sm==3.7.1) (0.1.4)\n",
      "Requirement already satisfied: colorama in c:\\users\\atesb\\miniconda3\\lib\\site-packages (from tqdm<5.0.0,>=4.38.0->spacy<3.8.0,>=3.7.2->en-core-web-sm==3.7.1) (0.4.6)\n",
      "Requirement already satisfied: click<9.0.0,>=7.1.1 in c:\\users\\atesb\\miniconda3\\lib\\site-packages (from typer<0.10.0,>=0.3.0->spacy<3.8.0,>=3.7.2->en-core-web-sm==3.7.1) (8.1.7)\n",
      "Requirement already satisfied: cloudpathlib<0.17.0,>=0.7.0 in c:\\users\\atesb\\miniconda3\\lib\\site-packages (from weasel<0.4.0,>=0.1.0->spacy<3.8.0,>=3.7.2->en-core-web-sm==3.7.1) (0.16.0)\n",
      "Requirement already satisfied: MarkupSafe>=2.0 in c:\\users\\atesb\\miniconda3\\lib\\site-packages (from jinja2->spacy<3.8.0,>=3.7.2->en-core-web-sm==3.7.1) (2.1.4)\n",
      "\u001b[38;5;2m✔ Download and installation successful\u001b[0m\n",
      "You can now load the package via spacy.load('en_core_web_sm')\n"
     ]
    }
   ],
   "source": [
    "!python -m spacy download en_core_web_sm"
   ]
  },
  {
   "cell_type": "code",
   "execution_count": 5,
   "metadata": {},
   "outputs": [],
   "source": [
    "nlp = spacy.load('en_core_web_sm')\n"
   ]
  },
  {
   "cell_type": "code",
   "execution_count": 6,
   "metadata": {},
   "outputs": [
    {
     "data": {
      "text/plain": [
       "[('tok2vec', <spacy.pipeline.tok2vec.Tok2Vec at 0x1979eb8cd60>),\n",
       " ('tagger', <spacy.pipeline.tagger.Tagger at 0x1979e622b60>),\n",
       " ('parser', <spacy.pipeline.dep_parser.DependencyParser at 0x197a76fb0d0>),\n",
       " ('attribute_ruler',\n",
       "  <spacy.pipeline.attributeruler.AttributeRuler at 0x197a7455ec0>),\n",
       " ('lemmatizer', <spacy.lang.en.lemmatizer.EnglishLemmatizer at 0x197a79fc400>),\n",
       " ('ner', <spacy.pipeline.ner.EntityRecognizer at 0x197a76fb1b0>)]"
      ]
     },
     "execution_count": 6,
     "metadata": {},
     "output_type": "execute_result"
    }
   ],
   "source": [
    "nlp.pipeline"
   ]
  },
  {
   "cell_type": "code",
   "execution_count": 11,
   "metadata": {},
   "outputs": [
    {
     "name": "stdout",
     "output_type": "stream",
     "text": [
      "Captain | PROPN | Captain\n",
      "America | PROPN | America\n",
      "ate | VERB | eat\n",
      "100 | NUM | 100\n",
      "$ | NUM | $\n",
      "of | ADP | of\n",
      "samosa | PROPN | samosa\n",
      ". | PUNCT | .\n",
      "Then | ADV | then\n",
      "he | PRON | he\n",
      "said | VERB | say\n",
      "i | PRON | I\n",
      "can | AUX | can\n",
      "do | VERB | do\n",
      "this | PRON | this\n",
      "all | DET | all\n",
      "thay | PROPN | thay\n"
     ]
    }
   ],
   "source": [
    "doc = nlp(\"Captain America ate 100$ of samosa. Then he said i can do this all thay\")\n",
    "\n",
    "for token in doc:\n",
    "    print(token,\"|\", token.pos_,\"|\", token.lemma_)"
   ]
  },
  {
   "cell_type": "code",
   "execution_count": 12,
   "metadata": {},
   "outputs": [
    {
     "data": {
      "text/plain": [
       "['tok2vec', 'tagger', 'parser', 'attribute_ruler', 'lemmatizer', 'ner']"
      ]
     },
     "execution_count": 12,
     "metadata": {},
     "output_type": "execute_result"
    }
   ],
   "source": [
    "nlp.pipe_names"
   ]
  },
  {
   "cell_type": "code",
   "execution_count": 19,
   "metadata": {},
   "outputs": [
    {
     "name": "stdout",
     "output_type": "stream",
     "text": [
      "TESLA INC | ORG | Companies, agencies, institutions, etc.\n",
      "45 billion dolar | MONEY | Monetary values, including unit\n"
     ]
    }
   ],
   "source": [
    "docs = nlp(\"TESLA INC is going to acquire twitter for 45 billion dolar\")\n",
    "\n",
    "for ent in docs.ents:\n",
    "    print(ent.text,\"|\",ent.label_,\"|\",spacy.explain(ent.label_))"
   ]
  },
  {
   "cell_type": "code",
   "execution_count": 22,
   "metadata": {},
   "outputs": [
    {
     "data": {
      "text/html": [
       "<span class=\"tex2jax_ignore\"><div class=\"entities\" style=\"line-height: 2.5; direction: ltr\">\n",
       "<mark class=\"entity\" style=\"background: #7aecec; padding: 0.45em 0.6em; margin: 0 0.25em; line-height: 1; border-radius: 0.35em;\">\n",
       "    TESLA INC\n",
       "    <span style=\"font-size: 0.8em; font-weight: bold; line-height: 1; border-radius: 0.35em; vertical-align: middle; margin-left: 0.5rem\">ORG</span>\n",
       "</mark>\n",
       " is going to acquire twitter for \n",
       "<mark class=\"entity\" style=\"background: #e4e7d2; padding: 0.45em 0.6em; margin: 0 0.25em; line-height: 1; border-radius: 0.35em;\">\n",
       "    45 billion dolar\n",
       "    <span style=\"font-size: 0.8em; font-weight: bold; line-height: 1; border-radius: 0.35em; vertical-align: middle; margin-left: 0.5rem\">MONEY</span>\n",
       "</mark>\n",
       "</div></span>"
      ],
      "text/plain": [
       "<IPython.core.display.HTML object>"
      ]
     },
     "metadata": {},
     "output_type": "display_data"
    }
   ],
   "source": [
    "from spacy import displacy\n",
    "\n",
    "displacy.render(docs,style=\"ent\")"
   ]
  },
  {
   "cell_type": "code",
   "execution_count": 23,
   "metadata": {},
   "outputs": [
    {
     "data": {
      "text/html": [
       "<span class=\"tex2jax_ignore\"><div class=\"entities\" style=\"line-height: 2.5; direction: ltr\">\n",
       "<mark class=\"entity\" style=\"background: #aa9cfc; padding: 0.45em 0.6em; margin: 0 0.25em; line-height: 1; border-radius: 0.35em;\">\n",
       "    Bloomberg\n",
       "    <span style=\"font-size: 0.8em; font-weight: bold; line-height: 1; border-radius: 0.35em; vertical-align: middle; margin-left: 0.5rem\">PERSON</span>\n",
       "</mark>\n",
       " has founded \n",
       "<mark class=\"entity\" style=\"background: #aa9cfc; padding: 0.45em 0.6em; margin: 0 0.25em; line-height: 1; border-radius: 0.35em;\">\n",
       "    Bloomberg\n",
       "    <span style=\"font-size: 0.8em; font-weight: bold; line-height: 1; border-radius: 0.35em; vertical-align: middle; margin-left: 0.5rem\">PERSON</span>\n",
       "</mark>\n",
       " in his \n",
       "<mark class=\"entity\" style=\"background: #bfe1d9; padding: 0.45em 0.6em; margin: 0 0.25em; line-height: 1; border-radius: 0.35em;\">\n",
       "    20s\n",
       "    <span style=\"font-size: 0.8em; font-weight: bold; line-height: 1; border-radius: 0.35em; vertical-align: middle; margin-left: 0.5rem\">DATE</span>\n",
       "</mark>\n",
       "</div></span>"
      ],
      "text/plain": [
       "<IPython.core.display.HTML object>"
      ]
     },
     "metadata": {},
     "output_type": "display_data"
    }
   ],
   "source": [
    "docs2=nlp(\"Bloomberg has founded Bloomberg in his 20s\")\n",
    "\n",
    "displacy.render(docs2,style='ent')"
   ]
  },
  {
   "cell_type": "markdown",
   "metadata": {},
   "source": [
    "### Customizing the pipeline"
   ]
  },
  {
   "cell_type": "code",
   "execution_count": 24,
   "metadata": {},
   "outputs": [
    {
     "data": {
      "text/plain": [
       "['ner']"
      ]
     },
     "execution_count": 24,
     "metadata": {},
     "output_type": "execute_result"
    }
   ],
   "source": [
    "source_nlp = spacy.load('en_core_web_sm')\n",
    "\n",
    "nlp = spacy.blank('en')\n",
    "nlp.add_pipe(\"ner\",source=source_nlp)\n",
    "nlp.pipe_names"
   ]
  },
  {
   "cell_type": "code",
   "execution_count": 25,
   "metadata": {},
   "outputs": [
    {
     "data": {
      "text/html": [
       "<span class=\"tex2jax_ignore\"><div class=\"entities\" style=\"line-height: 2.5; direction: ltr\">\n",
       "<mark class=\"entity\" style=\"background: #aa9cfc; padding: 0.45em 0.6em; margin: 0 0.25em; line-height: 1; border-radius: 0.35em;\">\n",
       "    Bloomberg\n",
       "    <span style=\"font-size: 0.8em; font-weight: bold; line-height: 1; border-radius: 0.35em; vertical-align: middle; margin-left: 0.5rem\">PERSON</span>\n",
       "</mark>\n",
       " has founded \n",
       "<mark class=\"entity\" style=\"background: #aa9cfc; padding: 0.45em 0.6em; margin: 0 0.25em; line-height: 1; border-radius: 0.35em;\">\n",
       "    Bloomberg\n",
       "    <span style=\"font-size: 0.8em; font-weight: bold; line-height: 1; border-radius: 0.35em; vertical-align: middle; margin-left: 0.5rem\">PERSON</span>\n",
       "</mark>\n",
       " in his \n",
       "<mark class=\"entity\" style=\"background: #bfe1d9; padding: 0.45em 0.6em; margin: 0 0.25em; line-height: 1; border-radius: 0.35em;\">\n",
       "    20s\n",
       "    <span style=\"font-size: 0.8em; font-weight: bold; line-height: 1; border-radius: 0.35em; vertical-align: middle; margin-left: 0.5rem\">DATE</span>\n",
       "</mark>\n",
       "</div></span>"
      ],
      "text/plain": [
       "<IPython.core.display.HTML object>"
      ]
     },
     "metadata": {},
     "output_type": "display_data"
    }
   ],
   "source": [
    "doc=nlp(\"Bloomberg has founded Bloomberg in his 20s\")\n",
    "\n",
    "displacy.render(doc,style='ent')"
   ]
  },
  {
   "cell_type": "code",
   "execution_count": null,
   "metadata": {},
   "outputs": [],
   "source": []
  },
  {
   "cell_type": "code",
   "execution_count": null,
   "metadata": {},
   "outputs": [],
   "source": []
  }
 ],
 "metadata": {
  "kernelspec": {
   "display_name": "base",
   "language": "python",
   "name": "python3"
  },
  "language_info": {
   "codemirror_mode": {
    "name": "ipython",
    "version": 3
   },
   "file_extension": ".py",
   "mimetype": "text/x-python",
   "name": "python",
   "nbconvert_exporter": "python",
   "pygments_lexer": "ipython3",
   "version": "3.10.13"
  }
 },
 "nbformat": 4,
 "nbformat_minor": 2
}
