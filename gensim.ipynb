{
 "cells": [
  {
   "cell_type": "code",
   "execution_count": 1,
   "metadata": {},
   "outputs": [
    {
     "name": "stdout",
     "output_type": "stream",
     "text": [
      "Collecting gensim\n",
      "  Downloading gensim-4.3.2-cp310-cp310-win_amd64.whl.metadata (8.5 kB)\n",
      "Requirement already satisfied: numpy>=1.18.5 in c:\\users\\atesb\\miniconda3\\lib\\site-packages (from gensim) (1.26.3)\n",
      "Requirement already satisfied: scipy>=1.7.0 in c:\\users\\atesb\\miniconda3\\lib\\site-packages (from gensim) (1.12.0)\n",
      "Requirement already satisfied: smart-open>=1.8.1 in c:\\users\\atesb\\miniconda3\\lib\\site-packages (from gensim) (6.4.0)\n",
      "Downloading gensim-4.3.2-cp310-cp310-win_amd64.whl (24.0 MB)\n",
      "   ---------------------------------------- 0.0/24.0 MB ? eta -:--:--\n",
      "   ---------------------------------------- 0.0/24.0 MB ? eta -:--:--\n",
      "   ---------------------------------------- 0.0/24.0 MB 445.2 kB/s eta 0:00:54\n",
      "   ---------------------------------------- 0.1/24.0 MB 770.8 kB/s eta 0:00:32\n",
      "   ---------------------------------------- 0.2/24.0 MB 1.6 MB/s eta 0:00:16\n",
      "    --------------------------------------- 0.4/24.0 MB 2.5 MB/s eta 0:00:10\n",
      "   - -------------------------------------- 0.7/24.0 MB 3.4 MB/s eta 0:00:07\n",
      "   - -------------------------------------- 1.0/24.0 MB 4.1 MB/s eta 0:00:06\n",
      "   - -------------------------------------- 1.0/24.0 MB 4.1 MB/s eta 0:00:06\n",
      "   - -------------------------------------- 1.0/24.0 MB 4.1 MB/s eta 0:00:06\n",
      "   - -------------------------------------- 1.0/24.0 MB 4.1 MB/s eta 0:00:06\n",
      "   - -------------------------------------- 1.0/24.0 MB 4.1 MB/s eta 0:00:06\n",
      "   - -------------------------------------- 1.0/24.0 MB 4.1 MB/s eta 0:00:06\n",
      "   - -------------------------------------- 1.0/24.0 MB 4.1 MB/s eta 0:00:06\n",
      "   - -------------------------------------- 1.0/24.0 MB 4.1 MB/s eta 0:00:06\n",
      "   - -------------------------------------- 1.0/24.0 MB 4.1 MB/s eta 0:00:06\n",
      "   - -------------------------------------- 1.0/24.0 MB 4.1 MB/s eta 0:00:06\n",
      "   - -------------------------------------- 1.0/24.0 MB 4.1 MB/s eta 0:00:06\n",
      "   - -------------------------------------- 1.0/24.0 MB 4.1 MB/s eta 0:00:06\n",
      "   - -------------------------------------- 1.0/24.0 MB 4.1 MB/s eta 0:00:06\n",
      "   - -------------------------------------- 1.0/24.0 MB 4.1 MB/s eta 0:00:06\n",
      "   - -------------------------------------- 1.0/24.0 MB 4.1 MB/s eta 0:00:06\n",
      "   - -------------------------------------- 1.0/24.0 MB 4.1 MB/s eta 0:00:06\n",
      "   - -------------------------------------- 1.0/24.0 MB 4.1 MB/s eta 0:00:06\n",
      "   - -------------------------------------- 1.0/24.0 MB 4.1 MB/s eta 0:00:06\n",
      "   - -------------------------------------- 1.0/24.0 MB 4.1 MB/s eta 0:00:06\n",
      "   - -------------------------------------- 1.0/24.0 MB 4.1 MB/s eta 0:00:06\n",
      "   - -------------------------------------- 1.0/24.0 MB 4.1 MB/s eta 0:00:06\n",
      "   - -------------------------------------- 1.0/24.0 MB 4.1 MB/s eta 0:00:06\n",
      "   - -------------------------------------- 1.0/24.0 MB 4.1 MB/s eta 0:00:06\n",
      "   - -------------------------------------- 1.0/24.0 MB 4.1 MB/s eta 0:00:06\n",
      "   - -------------------------------------- 1.0/24.0 MB 4.1 MB/s eta 0:00:06\n",
      "   - -------------------------------------- 1.0/24.0 MB 4.1 MB/s eta 0:00:06\n",
      "   --- ------------------------------------ 2.1/24.0 MB 1.6 MB/s eta 0:00:14\n",
      "   --- ------------------------------------ 2.4/24.0 MB 1.8 MB/s eta 0:00:13\n",
      "   ----- ---------------------------------- 3.2/24.0 MB 2.3 MB/s eta 0:00:10\n",
      "   ------ --------------------------------- 4.0/24.0 MB 2.8 MB/s eta 0:00:08\n",
      "   -------- ------------------------------- 4.9/24.0 MB 3.3 MB/s eta 0:00:06\n",
      "   ----------- ---------------------------- 6.9/24.0 MB 4.6 MB/s eta 0:00:04\n",
      "   -------------- ------------------------- 8.5/24.0 MB 5.5 MB/s eta 0:00:03\n",
      "   -------------- ------------------------- 8.6/24.0 MB 5.4 MB/s eta 0:00:03\n",
      "   ------------------ --------------------- 11.3/24.0 MB 7.4 MB/s eta 0:00:02\n",
      "   --------------------- ------------------ 12.6/24.0 MB 31.2 MB/s eta 0:00:01\n",
      "   ----------------------- ---------------- 14.0/24.0 MB 32.8 MB/s eta 0:00:01\n",
      "   ------------------------- -------------- 15.5/24.0 MB 34.4 MB/s eta 0:00:01\n",
      "   ---------------------------- ----------- 16.9/24.0 MB 31.2 MB/s eta 0:00:01\n",
      "   ------------------------------ --------- 18.5/24.0 MB 29.7 MB/s eta 0:00:01\n",
      "   ------------------------------- -------- 19.2/24.0 MB 34.4 MB/s eta 0:00:01\n",
      "   ---------------------------------- ----- 20.5/24.0 MB 28.5 MB/s eta 0:00:01\n",
      "   ----------------------------------- ---- 21.5/24.0 MB 28.4 MB/s eta 0:00:01\n",
      "   ------------------------------------ --- 21.7/24.0 MB 25.2 MB/s eta 0:00:01\n",
      "   ---------------------------------------  23.9/24.0 MB 28.4 MB/s eta 0:00:01\n",
      "   ---------------------------------------- 24.0/24.0 MB 25.1 MB/s eta 0:00:00\n",
      "Installing collected packages: gensim\n",
      "Successfully installed gensim-4.3.2\n"
     ]
    }
   ],
   "source": [
    "!pip install gensim\n"
   ]
  },
  {
   "cell_type": "code",
   "execution_count": 2,
   "metadata": {},
   "outputs": [
    {
     "name": "stdout",
     "output_type": "stream",
     "text": [
      "[==================================================] 100.0% 1662.8/1662.8MB downloaded\n"
     ]
    }
   ],
   "source": [
    "import gensim.downloader as api  \n",
    "\n",
    "wv = api.load('word2vec-google-news-300')"
   ]
  },
  {
   "cell_type": "code",
   "execution_count": 7,
   "metadata": {},
   "outputs": [
    {
     "data": {
      "text/plain": [
       "0.4098271"
      ]
     },
     "execution_count": 7,
     "metadata": {},
     "output_type": "execute_result"
    }
   ],
   "source": [
    "wv.similarity(w1='great',w2='well')"
   ]
  },
  {
   "cell_type": "code",
   "execution_count": 9,
   "metadata": {},
   "outputs": [
    {
     "data": {
      "text/plain": [
       "0.26898342"
      ]
     },
     "execution_count": 9,
     "metadata": {},
     "output_type": "execute_result"
    }
   ],
   "source": [
    "wv.similarity(w1='profit',w2='benefit')"
   ]
  },
  {
   "cell_type": "code",
   "execution_count": 10,
   "metadata": {},
   "outputs": [
    {
     "data": {
      "text/plain": [
       "0.28772825"
      ]
     },
     "execution_count": 10,
     "metadata": {},
     "output_type": "execute_result"
    }
   ],
   "source": [
    "wv.similarity(w1='profit',w2='gain')"
   ]
  },
  {
   "cell_type": "code",
   "execution_count": 12,
   "metadata": {},
   "outputs": [
    {
     "data": {
      "text/plain": [
       "[('great', 0.7291510105133057),\n",
       " ('bad', 0.7190051078796387),\n",
       " ('terrific', 0.6889115571975708),\n",
       " ('decent', 0.6837348341941833),\n",
       " ('nice', 0.6836092472076416),\n",
       " ('excellent', 0.644292950630188),\n",
       " ('fantastic', 0.6407778263092041),\n",
       " ('better', 0.6120728850364685),\n",
       " ('solid', 0.5806034803390503),\n",
       " ('lousy', 0.576420247554779)]"
      ]
     },
     "execution_count": 12,
     "metadata": {},
     "output_type": "execute_result"
    }
   ],
   "source": [
    "wv.most_similar('good')"
   ]
  },
  {
   "cell_type": "code",
   "execution_count": 13,
   "metadata": {},
   "outputs": [
    {
     "data": {
      "text/plain": [
       "[('cats', 0.8099379539489746),\n",
       " ('dog', 0.760945737361908),\n",
       " ('kitten', 0.7464985251426697),\n",
       " ('feline', 0.7326234579086304),\n",
       " ('beagle', 0.7150582671165466),\n",
       " ('puppy', 0.7075453400611877),\n",
       " ('pup', 0.6934291124343872),\n",
       " ('pet', 0.6891531348228455),\n",
       " ('felines', 0.6755931973457336),\n",
       " ('chihuahua', 0.6709762215614319)]"
      ]
     },
     "execution_count": 13,
     "metadata": {},
     "output_type": "execute_result"
    }
   ],
   "source": [
    "wv.most_similar('cat')"
   ]
  },
  {
   "cell_type": "code",
   "execution_count": 17,
   "metadata": {},
   "outputs": [
    {
     "data": {
      "text/plain": [
       "[('america', 0.5388723015785217),\n",
       " ('michigan', 0.5094602704048157),\n",
       " ('american', 0.49048736691474915),\n",
       " ('england', 0.48495882749557495),\n",
       " ('usa', 0.4807435870170593),\n",
       " ('europe', 0.4766150414943695),\n",
       " ('americans', 0.4712966978549957),\n",
       " ('japan', 0.4701950252056122),\n",
       " ('utah', 0.4685479700565338),\n",
       " ('obama', 0.467916339635849)]"
      ]
     },
     "execution_count": 17,
     "metadata": {},
     "output_type": "execute_result"
    }
   ],
   "source": [
    "wv.most_similar(positive=['france','washington'],negative=['paris'])"
   ]
  },
  {
   "cell_type": "code",
   "execution_count": 18,
   "metadata": {},
   "outputs": [
    {
     "data": {
      "text/plain": [
       "[('queen', 0.6525818109512329),\n",
       " ('monarch', 0.5959680676460266),\n",
       " ('crown_prince', 0.5324338674545288),\n",
       " ('kings', 0.5282072424888611),\n",
       " ('princess', 0.5240627527236938),\n",
       " ('sultan', 0.4983791410923004),\n",
       " ('monarchy', 0.49648746848106384),\n",
       " ('ruler', 0.49376848340034485),\n",
       " ('prince', 0.48910900950431824),\n",
       " ('Prince_Paras', 0.4794894754886627)]"
      ]
     },
     "execution_count": 18,
     "metadata": {},
     "output_type": "execute_result"
    }
   ],
   "source": [
    "wv.most_similar(positive=['king','women'],negative=['men'])"
   ]
  },
  {
   "cell_type": "code",
   "execution_count": 23,
   "metadata": {},
   "outputs": [
    {
     "data": {
      "text/plain": [
       "'microsoft'"
      ]
     },
     "execution_count": 23,
     "metadata": {},
     "output_type": "execute_result"
    }
   ],
   "source": [
    "wv.doesnt_match(['facebook','google','microsoft'])"
   ]
  },
  {
   "cell_type": "code",
   "execution_count": 24,
   "metadata": {},
   "outputs": [
    {
     "name": "stdout",
     "output_type": "stream",
     "text": [
      "[==================================================] 100.0% 104.8/104.8MB downloaded\n"
     ]
    }
   ],
   "source": [
    "glv = api.load('glove-twitter-25')"
   ]
  },
  {
   "cell_type": "code",
   "execution_count": 27,
   "metadata": {},
   "outputs": [
    {
     "name": "stdout",
     "output_type": "stream",
     "text": [
      "vektor: [-0.77069    0.12827    0.33137    0.0050893 -0.47605   -0.50116\n",
      "  1.858      1.0624    -0.56511    0.13328   -0.41918   -0.14195\n",
      " -2.8555    -0.57131   -0.13418   -0.44922    0.48591   -0.6479\n",
      " -0.84238    0.61669   -0.19824   -0.57967   -0.65885    0.43928\n",
      " -0.50473  ],vektor shape:(25,)\n"
     ]
    }
   ],
   "source": [
    "word = 'hello'\n",
    "vector = glv[word]\n",
    "print(f'vektor: {vector},vektor shape:{vector.shape}')"
   ]
  },
  {
   "cell_type": "code",
   "execution_count": 28,
   "metadata": {},
   "outputs": [
    {
     "data": {
      "text/plain": [
       "[('qualcomm', 0.9118991494178772),\n",
       " ('motors', 0.907597541809082),\n",
       " ('sachs', 0.8855622410774231),\n",
       " ('alibaba', 0.8841804265975952),\n",
       " ('weber', 0.8666931390762329),\n",
       " ('deere', 0.8601743578910828),\n",
       " ('kernel', 0.8578172922134399),\n",
       " ('foxconn', 0.8552562594413757),\n",
       " ('citigroup', 0.8552471399307251),\n",
       " ('exxon', 0.855033814907074)]"
      ]
     },
     "execution_count": 28,
     "metadata": {},
     "output_type": "execute_result"
    }
   ],
   "source": [
    "glv.most_similar('tesla')"
   ]
  },
  {
   "cell_type": "code",
   "execution_count": 29,
   "metadata": {},
   "outputs": [
    {
     "data": {
      "text/plain": [
       "[('facebook', 0.9231431484222412),\n",
       " ('web', 0.9163658022880554),\n",
       " ('app', 0.905758261680603),\n",
       " ('youtube', 0.8911036252975464),\n",
       " ('microsoft', 0.8854138255119324),\n",
       " ('online', 0.883611261844635),\n",
       " ('yahoo', 0.8831738233566284),\n",
       " ('apple', 0.8823866248130798),\n",
       " ('internet', 0.8815463781356812),\n",
       " ('ios', 0.8784741759300232)]"
      ]
     },
     "execution_count": 29,
     "metadata": {},
     "output_type": "execute_result"
    }
   ],
   "source": [
    "glv.most_similar('google')"
   ]
  },
  {
   "cell_type": "code",
   "execution_count": 33,
   "metadata": {},
   "outputs": [
    {
     "data": {
      "text/plain": [
       "'breakfast'"
      ]
     },
     "execution_count": 33,
     "metadata": {},
     "output_type": "execute_result"
    }
   ],
   "source": [
    "glv.doesnt_match('hello breakfast hi hey'.split(' '))"
   ]
  },
  {
   "cell_type": "code",
   "execution_count": null,
   "metadata": {},
   "outputs": [],
   "source": []
  }
 ],
 "metadata": {
  "kernelspec": {
   "display_name": "base",
   "language": "python",
   "name": "python3"
  },
  "language_info": {
   "codemirror_mode": {
    "name": "ipython",
    "version": 3
   },
   "file_extension": ".py",
   "mimetype": "text/x-python",
   "name": "python",
   "nbconvert_exporter": "python",
   "pygments_lexer": "ipython3",
   "version": "3.10.13"
  }
 },
 "nbformat": 4,
 "nbformat_minor": 2
}
