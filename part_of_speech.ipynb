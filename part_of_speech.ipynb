{
 "cells": [
  {
   "cell_type": "code",
   "execution_count": 1,
   "metadata": {},
   "outputs": [],
   "source": [
    "import spacy"
   ]
  },
  {
   "cell_type": "code",
   "execution_count": 2,
   "metadata": {},
   "outputs": [],
   "source": [
    "nlp = spacy.load('en_core_web_sm')"
   ]
  },
  {
   "cell_type": "code",
   "execution_count": 10,
   "metadata": {},
   "outputs": [
    {
     "data": {
      "text/plain": [
       "['tok2vec', 'tagger', 'parser', 'attribute_ruler', 'lemmatizer', 'ner']"
      ]
     },
     "execution_count": 10,
     "metadata": {},
     "output_type": "execute_result"
    }
   ],
   "source": [
    "nlp.pipe_names"
   ]
  },
  {
   "cell_type": "code",
   "execution_count": 9,
   "metadata": {},
   "outputs": [
    {
     "name": "stdout",
     "output_type": "stream",
     "text": [
      "Elon | PROPN | 96 | proper noun\n",
      "flew | VERB | 100 | verb\n",
      "to | ADP | 85 | adposition\n",
      "Mars | PROPN | 96 | proper noun\n",
      "yesterday | NOUN | 92 | noun\n",
      ". | PUNCT | 97 | punctuation\n",
      "He | PRON | 95 | pronoun\n",
      "carried | VERB | 100 | verb\n",
      "biryani | ADJ | 84 | adjective\n",
      "masala | NOUN | 92 | noun\n",
      "with | ADP | 85 | adposition\n",
      "him | PRON | 95 | pronoun\n"
     ]
    }
   ],
   "source": [
    "doc = nlp(\"Elon flew to Mars yesterday. He carried biryani masala with him\")\n",
    "\n",
    "for token in doc:\n",
    "    print(token,'|', token.pos_,'|',token.pos,'|', spacy.explain(token.pos_))"
   ]
  },
  {
   "cell_type": "code",
   "execution_count": 14,
   "metadata": {},
   "outputs": [
    {
     "name": "stdout",
     "output_type": "stream",
     "text": [
      "Wow | INTJ | 91 | interjection | UH | interjection\n",
      "! | PUNCT | 97 | punctuation | . | punctuation mark, sentence closer\n",
      "Dr. | PROPN | 96 | proper noun | NNP | noun, proper singular\n",
      "Strange | PROPN | 96 | proper noun | NNP | noun, proper singular\n",
      "made | VERB | 100 | verb | VBD | verb, past tense\n",
      "265 | NUM | 93 | numeral | CD | cardinal number\n",
      "million | NUM | 93 | numeral | CD | cardinal number\n",
      "$ | NUM | 93 | numeral | CD | cardinal number\n",
      "on | ADP | 85 | adposition | IN | conjunction, subordinating or preposition\n",
      "the | DET | 90 | determiner | DT | determiner\n",
      "very | ADV | 86 | adverb | RB | adverb\n",
      "first | ADJ | 84 | adjective | JJ | adjective (English), other noun-modifier (Chinese)\n",
      "day | NOUN | 92 | noun | NN | noun, singular or mass\n"
     ]
    }
   ],
   "source": [
    "doc = nlp(\"Wow! Dr. Strange made 265 million $ on the very first day\")\n",
    "\n",
    "for token in doc:\n",
    "    print(token,'|', token.pos_,'|',token.pos,'|', spacy.explain(token.pos_),'|',token.tag_,'|',spacy.explain(token.tag_))"
   ]
  },
  {
   "cell_type": "markdown",
   "metadata": {},
   "source": [
    "### Spacy detects the tense "
   ]
  },
  {
   "cell_type": "code",
   "execution_count": 15,
   "metadata": {},
   "outputs": [
    {
     "name": "stdout",
     "output_type": "stream",
     "text": [
      "quits | VBZ | verb, 3rd person singular present\n"
     ]
    }
   ],
   "source": [
    "doc = nlp('He quits the job')\n",
    "\n",
    "print(doc[1].text, '|', doc[1].tag_, '|', spacy.explain(doc[1].tag_))"
   ]
  },
  {
   "cell_type": "code",
   "execution_count": 16,
   "metadata": {},
   "outputs": [
    {
     "name": "stdout",
     "output_type": "stream",
     "text": [
      "quit | VBD | verb, past tense\n"
     ]
    }
   ],
   "source": [
    "doc = nlp('He quit the job')\n",
    "\n",
    "print(doc[1].text, '|', doc[1].tag_, '|', spacy.explain(doc[1].tag_))"
   ]
  },
  {
   "cell_type": "code",
   "execution_count": 28,
   "metadata": {},
   "outputs": [
    {
     "name": "stdout",
     "output_type": "stream",
     "text": [
      "Microsoft | PROPN | proper noun\n",
      "Corporation | PROPN | proper noun\n",
      "is | AUX | auxiliary\n",
      "an | DET | determiner\n",
      "American | PROPN | proper noun\n",
      "X | PROPN | proper noun\n",
      "multinational | ADJ | adjective\n",
      "technology | NOUN | noun\n",
      "corporation | NOUN | noun\n",
      "headquartered | VERB | verb\n",
      "in | ADP | adposition\n",
      "Redmond | PROPN | proper noun\n",
      ", | PUNCT | punctuation\n",
      "Washington | PROPN | proper noun\n",
      ". | PUNCT | punctuation\n",
      "It | PRON | pronoun\n",
      "is | AUX | auxiliary\n",
      "also | ADV | adverb\n",
      "incorporated | VERB | verb\n",
      "in | ADP | adposition\n",
      "Washington | PROPN | proper noun\n",
      ". | PUNCT | punctuation\n",
      "Microsoft | PROPN | proper noun\n",
      "'s | PART | particle\n",
      "best | ADV | adverb\n",
      "- | PUNCT | punctuation\n",
      "known | VERB | verb\n",
      "software | NOUN | noun\n",
      "products | NOUN | noun\n",
      "are | AUX | auxiliary\n",
      "the | DET | determiner\n",
      "Windows | PROPN | proper noun\n",
      "line | NOUN | noun\n",
      "of | ADP | adposition\n",
      "operating | NOUN | noun\n",
      "systems | NOUN | noun\n",
      ", | PUNCT | punctuation\n",
      "the | DET | determiner\n",
      "Microsoft | PROPN | proper noun\n",
      "365 | NUM | numeral\n",
      "suite | NOUN | noun\n",
      "of | ADP | adposition\n",
      "productivity | NOUN | noun\n",
      "applications | NOUN | noun\n",
      ", | PUNCT | punctuation\n",
      "and | CCONJ | coordinating conjunction\n",
      "the | DET | determiner\n",
      "Edge | PROPN | proper noun\n",
      "web | NOUN | noun\n",
      "browser | NOUN | noun\n"
     ]
    }
   ],
   "source": [
    "text = \"Microsoft Corporation is an American X multinational technology corporation headquartered in Redmond, Washington. It is also incorporated in Washington. Microsoft's best-known software products are the Windows line of operating systems, the Microsoft 365 suite of productivity applications, and the Edge web browser\"\n",
    "\n",
    "filetered_tokens = []\n",
    "\n",
    "doc = nlp(text)\n",
    "for token in doc:\n",
    "    if token.pos_ in [\"SPACE\",\"X\",\"PUNCT\"]:\n",
    "        filetered_tokens.append(token)\n",
    "     \n",
    "    print(token,'|', token.pos_,\"|\",spacy.explain(token.pos_))"
   ]
  },
  {
   "cell_type": "code",
   "execution_count": 29,
   "metadata": {},
   "outputs": [
    {
     "data": {
      "text/plain": [
       "[,, ., ., -, ,, ,]"
      ]
     },
     "execution_count": 29,
     "metadata": {},
     "output_type": "execute_result"
    }
   ],
   "source": [
    "filetered_tokens"
   ]
  },
  {
   "cell_type": "code",
   "execution_count": 33,
   "metadata": {},
   "outputs": [
    {
     "data": {
      "text/plain": [
       "{96: 11,\n",
       " 87: 3,\n",
       " 90: 4,\n",
       " 84: 1,\n",
       " 92: 12,\n",
       " 100: 3,\n",
       " 85: 4,\n",
       " 97: 6,\n",
       " 95: 1,\n",
       " 86: 2,\n",
       " 94: 1,\n",
       " 93: 1,\n",
       " 89: 1}"
      ]
     },
     "execution_count": 33,
     "metadata": {},
     "output_type": "execute_result"
    }
   ],
   "source": [
    "count = doc.count_by(spacy.attrs.POS)\n",
    "count"
   ]
  },
  {
   "cell_type": "code",
   "execution_count": 34,
   "metadata": {},
   "outputs": [
    {
     "name": "stdout",
     "output_type": "stream",
     "text": [
      "PROPN | 11\n",
      "AUX | 3\n",
      "DET | 4\n",
      "ADJ | 1\n",
      "NOUN | 12\n",
      "VERB | 3\n",
      "ADP | 4\n",
      "PUNCT | 6\n",
      "PRON | 1\n",
      "ADV | 2\n",
      "PART | 1\n",
      "NUM | 1\n",
      "CCONJ | 1\n"
     ]
    }
   ],
   "source": [
    "for k,v in count.items():\n",
    "    print(doc.vocab[k].text,\"|\",v)    \n"
   ]
  },
  {
   "cell_type": "code",
   "execution_count": null,
   "metadata": {},
   "outputs": [],
   "source": []
  }
 ],
 "metadata": {
  "kernelspec": {
   "display_name": "base",
   "language": "python",
   "name": "python3"
  },
  "language_info": {
   "codemirror_mode": {
    "name": "ipython",
    "version": 3
   },
   "file_extension": ".py",
   "mimetype": "text/x-python",
   "name": "python",
   "nbconvert_exporter": "python",
   "pygments_lexer": "ipython3",
   "version": "3.10.13"
  }
 },
 "nbformat": 4,
 "nbformat_minor": 2
}
